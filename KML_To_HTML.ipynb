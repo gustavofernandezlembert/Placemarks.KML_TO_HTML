{
  "nbformat": 4,
  "nbformat_minor": 0,
  "metadata": {
    "colab": {
      "provenance": []
    },
    "kernelspec": {
      "name": "python3",
      "display_name": "Python 3"
    },
    "language_info": {
      "name": "python"
    }
  },
  "cells": [
    {
      "cell_type": "code",
      "execution_count": null,
      "metadata": {
        "id": "xj8a3cxr0jk_"
      },
      "outputs": [],
      "source": [
        "from flask import Flask, render_template, request\n",
        "import csv\n",
        "import xml.etree.ElementTree as ET\n",
        "\n",
        "app = Flask(__name__)\n",
        "\n",
        "@app.route('/')\n",
        "def home():\n",
        "    return render_template('index.html')\n",
        "\n",
        "@app.route('/convert', methods=['POST'])\n",
        "def convert():\n",
        "    kml_file = request.files['file']\n",
        "\n",
        "    try:\n",
        "        tree = ET.parse(kml_file)\n",
        "        root = tree.getroot()\n",
        "\n",
        "        placemarks = root.findall('.//{http://www.opengis.net/kml/2.2}Placemark')\n",
        "\n",
        "        data = []\n",
        "        for placemark in placemarks:\n",
        "            data.append(extract_placemark_data(placemark))\n",
        "\n",
        "        return render_template('output.html', data=data)\n",
        "    except Exception as e:\n",
        "        return f\"An error occurred: {str(e)}\"\n",
        "\n",
        "def extract_placemark_data(placemark):\n",
        "    name_element = placemark.find('.//{http://www.opengis.net/kml/2.2}name')\n",
        "    name = name_element.text if name_element is not None else ''\n",
        "\n",
        "    coordinates_element = placemark.find('.//{http://www.opengis.net/kml/2.2}Point/{http://www.opengis.net/kml/2.2}coordinates')\n",
        "    coordinates = coordinates_element.text.strip().split(',') if coordinates_element is not None else ['', '', '']\n",
        "\n",
        "    longitude, latitude, _ = coordinates\n",
        "    latitude = format(float(latitude), '.6f')\n",
        "    longitude = format(float(longitude), '.6f')\n",
        "    return name, latitude, longitude\n",
        "\n",
        "if __name__ == '__main__':\n",
        "    app.run()\n"
      ]
    }
  ]
}